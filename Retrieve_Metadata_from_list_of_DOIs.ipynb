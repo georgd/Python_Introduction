{
 "cells": [
  {
   "cell_type": "code",
   "execution_count": 1,
   "metadata": {},
   "outputs": [],
   "source": [
    "import json\n",
    "import urllib.request"
   ]
  },
  {
   "cell_type": "code",
   "execution_count": 2,
   "metadata": {},
   "outputs": [],
   "source": [
    "base_url = \"https://api.crossref.org/works/\""
   ]
  },
  {
   "cell_type": "code",
   "execution_count": 3,
   "metadata": {},
   "outputs": [],
   "source": [
    "# Liste mit DOIs\n",
    "dois = [\"10.1371/journal.pcbi.1004668\",\n",
    "        \"10.21105/joss.01035\",\n",
    "        \"10.1038/35057062\",\n",
    "        \"10.21105/joss.01006\"]"
   ]
  },
  {
   "cell_type": "code",
   "execution_count": 22,
   "metadata": {},
   "outputs": [],
   "source": [
    "def print_line_separator(sepchar):\n",
    "    \"\"\"Print a line separator\"\"\"\n",
    "    print(sepchar * 117)"
   ]
  },
  {
   "cell_type": "code",
   "execution_count": 39,
   "metadata": {},
   "outputs": [],
   "source": [
    "def print_table_line(*args, line_sep = \"-\", csep = \" | \"):\n",
    "    csep = \" | \"\n",
    "    print(csep.join(args))\n",
    "    print_line_separator(line_sep)"
   ]
  },
  {
   "cell_type": "code",
   "execution_count": 40,
   "metadata": {},
   "outputs": [
    {
     "name": "stdout",
     "output_type": "stream",
     "text": [
      "=====================================================================================================================\n",
      "  | Title                                                       | Short container title | DOI\n",
      "=====================================================================================================================\n",
      "0 | A Quick Introduction to Version Control with Git and GitHub | PLoS Comput Biol | 10.1371/journal.pcbi.1004668\n",
      "---------------------------------------------------------------------------------------------------------------------\n",
      "1 | nasapower: A NASA POWER Global Meteorology, Surface Solar Energy and Climatology Data Client for R | JOSS | 10.21105/joss.01035\n",
      "---------------------------------------------------------------------------------------------------------------------\n",
      "2 | Initial sequencing and analysis of the human genome | Nature | 10.1038/35057062\n",
      "---------------------------------------------------------------------------------------------------------------------\n",
      "3 | SeqTools: A python package for easy transformation, combination and evaluation of large datasets. | JOSS | 10.21105/joss.01006\n",
      "---------------------------------------------------------------------------------------------------------------------\n"
     ]
    }
   ],
   "source": [
    "print_line_separator(\"=\")\n",
    "print_table_line(\" \", \"Title\" + \" \" * 54, \"Short container title\", \"DOI\", line_sep = \"=\")\n",
    "counter = 0\n",
    "for doi in dois:\n",
    "    full_url = base_url + doi\n",
    "    doi_json_data = urllib.request.urlopen(full_url).read()\n",
    "    record = json.loads(doi_json_data)[\"message\"]\n",
    "    print_table_line(str(counter), record[\"title\"][0], record[\"short-container-title\"][0], record[\"DOI\"])\n",
    "    counter += 1"
   ]
  },
  {
   "cell_type": "code",
   "execution_count": 17,
   "metadata": {},
   "outputs": [
    {
     "name": "stdout",
     "output_type": "stream",
     "text": [
      "[\n",
      "  {\n",
      "    \"title\": \"A Quick Introduction to Version Control with Git and GitHub\",\n",
      "    \"short-container-title\": \"PLoS Comput Biol\",\n",
      "    \"DOI\": \"10.1371/journal.pcbi.1004668\"\n",
      "  },\n",
      "  {\n",
      "    \"title\": \"nasapower: A NASA POWER Global Meteorology, Surface Solar Energy and Climatology Data Client for R\",\n",
      "    \"short-container-title\": \"JOSS\",\n",
      "    \"DOI\": \"10.21105/joss.01035\"\n",
      "  },\n",
      "  {\n",
      "    \"title\": \"Initial sequencing and analysis of the human genome\",\n",
      "    \"short-container-title\": \"Nature\",\n",
      "    \"DOI\": \"10.1038/35057062\"\n",
      "  },\n",
      "  {\n",
      "    \"title\": \"SeqTools: A python package for easy transformation, combination and evaluation of large datasets.\",\n",
      "    \"short-container-title\": \"JOSS\",\n",
      "    \"DOI\": \"10.21105/joss.01006\"\n",
      "  }\n",
      "]\n"
     ]
    }
   ],
   "source": [
    "output = []\n",
    "for doi in dois:\n",
    "    full_url = base_url + doi\n",
    "    doi_json_data = urllib.request.urlopen(full_url).read()\n",
    "    record = json.loads(doi_json_data)[\"message\"]\n",
    "    output.append({\n",
    "        \"title\" : record[\"title\"][0],\n",
    "        \"short-container-title\" : record[\"short-container-title\"][0],\n",
    "        \"DOI\" : record[\"DOI\"]})\n",
    "print(json.dumps(output, indent = 2))"
   ]
  },
  {
   "cell_type": "code",
   "execution_count": null,
   "metadata": {},
   "outputs": [],
   "source": []
  }
 ],
 "metadata": {
  "kernelspec": {
   "display_name": "Python 3",
   "language": "python",
   "name": "python3"
  },
  "language_info": {
   "codemirror_mode": {
    "name": "ipython",
    "version": 3
   },
   "file_extension": ".py",
   "mimetype": "text/x-python",
   "name": "python",
   "nbconvert_exporter": "python",
   "pygments_lexer": "ipython3",
   "version": "3.7.3"
  }
 },
 "nbformat": 4,
 "nbformat_minor": 2
}
